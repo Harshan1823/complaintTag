{
 "cells": [
  {
   "cell_type": "code",
   "execution_count": 63,
   "id": "5daf2538-60e3-4fcc-9c62-fd55e1e67c3f",
   "metadata": {},
   "outputs": [],
   "source": [
    "import os\n",
    "from pathlib import Path\n",
    "\n",
    "import pandas as pd\n",
    "import numpy as np\n",
    "import matplotlib.pyplot as plt\n",
    "import seaborn as sns\n",
    "import plotly.express as px\n",
    "from sklearn.model_selection import train_test_split\n",
    "\n",
    "import warnings\n",
    "warnings.filterwarnings(\"ignore\")"
   ]
  },
  {
   "cell_type": "code",
   "execution_count": 64,
   "id": "b926b275-19e5-4a53-a1d0-914119e721b6",
   "metadata": {},
   "outputs": [],
   "source": [
    "# Constants\n",
    "DATA_FOLDER = Path('../DATA_STORE')\n",
    "ARTIFACTS_STORE = Path('../artifacts')\n",
    "RAW_DATA_FOLDER = DATA_FOLDER / 'raw_data'\n",
    "FINAL_DATA_FOLDER = DATA_FOLDER / 'final_data'"
   ]
  },
  {
   "cell_type": "code",
   "execution_count": 65,
   "id": "8a36db9c-ef8d-46d2-81a8-3964fa579f55",
   "metadata": {},
   "outputs": [],
   "source": [
    "csv_file = RAW_DATA_FOLDER/'complaints.csv'\n",
    "# Specify the correct dtypes for the problematic columns\n",
    "dtypes = {\n",
    "    'Company public response': 'object',\n",
    "    'Consumer complaint narrative': 'object',\n",
    "    'Consumer consent provided?': 'object',\n",
    "    'Consumer disputed?': 'object',\n",
    "    'Tags': 'object',\n",
    "    'ZIP code': 'object'\n",
    "}\n",
    "\n",
    "# Read the CSV file with Dask, specifying the dtypes\n",
    "df = pd.read_csv(csv_file, dtype=dtypes)"
   ]
  },
  {
   "cell_type": "code",
   "execution_count": 66,
   "id": "2319b260-73d0-4a49-89c8-b27464547a85",
   "metadata": {},
   "outputs": [
    {
     "name": "stdout",
     "output_type": "stream",
     "text": [
      "(6140348, 18)\n"
     ]
    },
    {
     "data": {
      "text/html": [
       "<div>\n",
       "<style scoped>\n",
       "    .dataframe tbody tr th:only-of-type {\n",
       "        vertical-align: middle;\n",
       "    }\n",
       "\n",
       "    .dataframe tbody tr th {\n",
       "        vertical-align: top;\n",
       "    }\n",
       "\n",
       "    .dataframe thead th {\n",
       "        text-align: right;\n",
       "    }\n",
       "</style>\n",
       "<table border=\"1\" class=\"dataframe\">\n",
       "  <thead>\n",
       "    <tr style=\"text-align: right;\">\n",
       "      <th></th>\n",
       "      <th>Date received</th>\n",
       "      <th>Product</th>\n",
       "      <th>Sub-product</th>\n",
       "      <th>Issue</th>\n",
       "      <th>Sub-issue</th>\n",
       "      <th>Consumer complaint narrative</th>\n",
       "      <th>Company public response</th>\n",
       "      <th>Company</th>\n",
       "      <th>State</th>\n",
       "      <th>ZIP code</th>\n",
       "      <th>Tags</th>\n",
       "      <th>Consumer consent provided?</th>\n",
       "      <th>Submitted via</th>\n",
       "      <th>Date sent to company</th>\n",
       "      <th>Company response to consumer</th>\n",
       "      <th>Timely response?</th>\n",
       "      <th>Consumer disputed?</th>\n",
       "      <th>Complaint ID</th>\n",
       "    </tr>\n",
       "  </thead>\n",
       "  <tbody>\n",
       "    <tr>\n",
       "      <th>0</th>\n",
       "      <td>2024-09-15</td>\n",
       "      <td>Credit reporting or other personal consumer re...</td>\n",
       "      <td>Credit reporting</td>\n",
       "      <td>Incorrect information on your report</td>\n",
       "      <td>Information belongs to someone else</td>\n",
       "      <td>NaN</td>\n",
       "      <td>NaN</td>\n",
       "      <td>EQUIFAX, INC.</td>\n",
       "      <td>OR</td>\n",
       "      <td>97218</td>\n",
       "      <td>NaN</td>\n",
       "      <td>NaN</td>\n",
       "      <td>Web</td>\n",
       "      <td>2024-09-15</td>\n",
       "      <td>In progress</td>\n",
       "      <td>Yes</td>\n",
       "      <td>NaN</td>\n",
       "      <td>10127439</td>\n",
       "    </tr>\n",
       "    <tr>\n",
       "      <th>1</th>\n",
       "      <td>2024-09-15</td>\n",
       "      <td>Credit reporting or other personal consumer re...</td>\n",
       "      <td>Credit reporting</td>\n",
       "      <td>Incorrect information on your report</td>\n",
       "      <td>Information belongs to someone else</td>\n",
       "      <td>NaN</td>\n",
       "      <td>NaN</td>\n",
       "      <td>EQUIFAX, INC.</td>\n",
       "      <td>OR</td>\n",
       "      <td>97218</td>\n",
       "      <td>NaN</td>\n",
       "      <td>NaN</td>\n",
       "      <td>Web</td>\n",
       "      <td>2024-09-15</td>\n",
       "      <td>In progress</td>\n",
       "      <td>Yes</td>\n",
       "      <td>NaN</td>\n",
       "      <td>10127441</td>\n",
       "    </tr>\n",
       "    <tr>\n",
       "      <th>2</th>\n",
       "      <td>2024-09-15</td>\n",
       "      <td>Credit reporting or other personal consumer re...</td>\n",
       "      <td>Credit reporting</td>\n",
       "      <td>Incorrect information on your report</td>\n",
       "      <td>Information belongs to someone else</td>\n",
       "      <td>NaN</td>\n",
       "      <td>NaN</td>\n",
       "      <td>EQUIFAX, INC.</td>\n",
       "      <td>CA</td>\n",
       "      <td>95822</td>\n",
       "      <td>NaN</td>\n",
       "      <td>NaN</td>\n",
       "      <td>Web</td>\n",
       "      <td>2024-09-15</td>\n",
       "      <td>In progress</td>\n",
       "      <td>Yes</td>\n",
       "      <td>NaN</td>\n",
       "      <td>10127444</td>\n",
       "    </tr>\n",
       "    <tr>\n",
       "      <th>3</th>\n",
       "      <td>2024-09-15</td>\n",
       "      <td>Credit reporting or other personal consumer re...</td>\n",
       "      <td>Credit reporting</td>\n",
       "      <td>Improper use of your report</td>\n",
       "      <td>Credit inquiries on your report that you don't...</td>\n",
       "      <td>NaN</td>\n",
       "      <td>NaN</td>\n",
       "      <td>EQUIFAX, INC.</td>\n",
       "      <td>UT</td>\n",
       "      <td>84765</td>\n",
       "      <td>NaN</td>\n",
       "      <td>NaN</td>\n",
       "      <td>Web</td>\n",
       "      <td>2024-09-15</td>\n",
       "      <td>In progress</td>\n",
       "      <td>Yes</td>\n",
       "      <td>NaN</td>\n",
       "      <td>10127452</td>\n",
       "    </tr>\n",
       "    <tr>\n",
       "      <th>4</th>\n",
       "      <td>2024-09-15</td>\n",
       "      <td>Credit reporting or other personal consumer re...</td>\n",
       "      <td>Credit reporting</td>\n",
       "      <td>Incorrect information on your report</td>\n",
       "      <td>Information belongs to someone else</td>\n",
       "      <td>NaN</td>\n",
       "      <td>NaN</td>\n",
       "      <td>EQUIFAX, INC.</td>\n",
       "      <td>CA</td>\n",
       "      <td>91344</td>\n",
       "      <td>NaN</td>\n",
       "      <td>NaN</td>\n",
       "      <td>Web</td>\n",
       "      <td>2024-09-15</td>\n",
       "      <td>In progress</td>\n",
       "      <td>Yes</td>\n",
       "      <td>NaN</td>\n",
       "      <td>10127458</td>\n",
       "    </tr>\n",
       "  </tbody>\n",
       "</table>\n",
       "</div>"
      ],
      "text/plain": [
       "  Date received                                            Product  \\\n",
       "0    2024-09-15  Credit reporting or other personal consumer re...   \n",
       "1    2024-09-15  Credit reporting or other personal consumer re...   \n",
       "2    2024-09-15  Credit reporting or other personal consumer re...   \n",
       "3    2024-09-15  Credit reporting or other personal consumer re...   \n",
       "4    2024-09-15  Credit reporting or other personal consumer re...   \n",
       "\n",
       "        Sub-product                                 Issue  \\\n",
       "0  Credit reporting  Incorrect information on your report   \n",
       "1  Credit reporting  Incorrect information on your report   \n",
       "2  Credit reporting  Incorrect information on your report   \n",
       "3  Credit reporting           Improper use of your report   \n",
       "4  Credit reporting  Incorrect information on your report   \n",
       "\n",
       "                                           Sub-issue  \\\n",
       "0                Information belongs to someone else   \n",
       "1                Information belongs to someone else   \n",
       "2                Information belongs to someone else   \n",
       "3  Credit inquiries on your report that you don't...   \n",
       "4                Information belongs to someone else   \n",
       "\n",
       "  Consumer complaint narrative Company public response        Company State  \\\n",
       "0                          NaN                     NaN  EQUIFAX, INC.    OR   \n",
       "1                          NaN                     NaN  EQUIFAX, INC.    OR   \n",
       "2                          NaN                     NaN  EQUIFAX, INC.    CA   \n",
       "3                          NaN                     NaN  EQUIFAX, INC.    UT   \n",
       "4                          NaN                     NaN  EQUIFAX, INC.    CA   \n",
       "\n",
       "  ZIP code Tags Consumer consent provided? Submitted via Date sent to company  \\\n",
       "0    97218  NaN                        NaN           Web           2024-09-15   \n",
       "1    97218  NaN                        NaN           Web           2024-09-15   \n",
       "2    95822  NaN                        NaN           Web           2024-09-15   \n",
       "3    84765  NaN                        NaN           Web           2024-09-15   \n",
       "4    91344  NaN                        NaN           Web           2024-09-15   \n",
       "\n",
       "  Company response to consumer Timely response? Consumer disputed?  \\\n",
       "0                  In progress              Yes                NaN   \n",
       "1                  In progress              Yes                NaN   \n",
       "2                  In progress              Yes                NaN   \n",
       "3                  In progress              Yes                NaN   \n",
       "4                  In progress              Yes                NaN   \n",
       "\n",
       "   Complaint ID  \n",
       "0      10127439  \n",
       "1      10127441  \n",
       "2      10127444  \n",
       "3      10127452  \n",
       "4      10127458  "
      ]
     },
     "execution_count": 66,
     "metadata": {},
     "output_type": "execute_result"
    }
   ],
   "source": [
    "print(df.shape)\n",
    "df.head()"
   ]
  },
  {
   "cell_type": "code",
   "execution_count": 67,
   "id": "0161f37a-f393-4f17-a26f-af3483139db7",
   "metadata": {},
   "outputs": [
    {
     "data": {
      "text/plain": [
       "(405000, 19)"
      ]
     },
     "execution_count": 67,
     "metadata": {},
     "output_type": "execute_result"
    }
   ],
   "source": [
    "# Basic Cleaning\n",
    "df['Date received'] = pd.to_datetime(df['Date received'])\n",
    "df['year'] = df['Date received'].dt.year\n",
    "df = df[df['year']==2024]\n",
    "df = df[(df['Consumer complaint narrative'].isna()==False) & (df['Sub-issue'].isna()==False)]\n",
    "\n",
    "df.shape"
   ]
  },
  {
   "cell_type": "code",
   "execution_count": 68,
   "id": "7282d71a-7da7-448a-9d3b-d3dd972baced",
   "metadata": {},
   "outputs": [],
   "source": [
    "product_map = {\n",
    "    'Credit reporting or other personal consumer reports': 'Credit Reporting',\n",
    "    'Debt collection': 'Debt collection', \n",
    "    'Credit card': 'Credit card',\n",
    "    'Prepaid card':'Prepaid card',\n",
    "    'Checking or savings account': 'Checking/savings account',\n",
    "    'Mortgage': 'Loans / Mortgage',\n",
    "    'Money transfer, virtual currency, or money service': 'Money transfer',\n",
    "    'Student loan': 'Loans / Mortgage',\n",
    "    'Vehicle loan or lease': 'Loans / Mortgage',\n",
    "    'Payday loan, title loan, personal loan, or advance loan': 'Loans / Mortgage',\n",
    "    'Debt or credit management': 'Debt/credit management'\n",
    "}\n",
    "df['Product'] = df['Product'].map(product_map)"
   ]
  },
  {
   "cell_type": "code",
   "execution_count": 69,
   "id": "2ee81b60-040b-4ae9-9e1a-b9bebb781d9c",
   "metadata": {},
   "outputs": [
    {
     "data": {
      "text/plain": [
       "(405000, 19)"
      ]
     },
     "execution_count": 69,
     "metadata": {},
     "output_type": "execute_result"
    }
   ],
   "source": [
    "df['Product'] = df['Product'].str.strip()\n",
    "df['Sub-product'] = df['Sub-product'].str.strip()\n",
    "df['Issue'] = df['Issue'].str.strip()\n",
    "df['Sub-issue'] = df['Sub-issue'].str.strip()\n",
    "df = df[\n",
    "    (df['Product'] != '') |\n",
    "    (df['Sub-product'] != '') |\n",
    "    (df['Issue'] != '') |\n",
    "    (df['Sub-issue'] != '')\n",
    "]\n",
    "df.shape"
   ]
  },
  {
   "cell_type": "code",
   "execution_count": 70,
   "id": "17b73159-e61c-420f-a692-0b1b962e5b06",
   "metadata": {},
   "outputs": [
    {
     "data": {
      "text/plain": [
       "(364520, 20)"
      ]
     },
     "execution_count": 70,
     "metadata": {},
     "output_type": "execute_result"
    }
   ],
   "source": [
    "df.loc[:, 'narrative_word_count'] = df['Consumer complaint narrative'].apply(lambda x: len(str(x).split()))\n",
    "df = df[df['narrative_word_count'] >= 30]\n",
    "df.shape"
   ]
  },
  {
   "cell_type": "code",
   "execution_count": 9,
   "id": "a5cdc787-bdaa-4676-b573-6e6d0d810400",
   "metadata": {},
   "outputs": [
    {
     "data": {
      "text/plain": [
       "(227463, 20)"
      ]
     },
     "execution_count": 9,
     "metadata": {},
     "output_type": "execute_result"
    }
   ],
   "source": [
    "df = df.drop_duplicates(subset=['Consumer complaint narrative', 'Product', 'Sub-product', 'Issue', 'Sub-issue'], keep='first')\n",
    "df.shape"
   ]
  },
  {
   "cell_type": "code",
   "execution_count": 10,
   "id": "52bd0b1c-b1e8-4cc4-9e78-4ead5ef17d8a",
   "metadata": {},
   "outputs": [
    {
     "data": {
      "text/plain": [
       "(223155, 20)"
      ]
     },
     "execution_count": 10,
     "metadata": {},
     "output_type": "execute_result"
    }
   ],
   "source": [
    "filtered_narratives = df['Consumer complaint narrative'].value_counts()\n",
    "narratives_to_remove = filtered_narratives[filtered_narratives >= 2].index\n",
    "df = df[~df['Consumer complaint narrative'].isin(narratives_to_remove)]\n",
    "df.shape"
   ]
  },
  {
   "cell_type": "code",
   "execution_count": 21,
   "id": "358fdb69-8394-4571-b38d-8d2f01cee8c3",
   "metadata": {},
   "outputs": [
    {
     "data": {
      "text/plain": [
       "(185049, 20)"
      ]
     },
     "execution_count": 21,
     "metadata": {},
     "output_type": "execute_result"
    }
   ],
   "source": [
    "df['Product_SubProduct'] = df['Product'] + '_' + df['Sub-product']\n",
    "combined_counts = df['Product_SubProduct'].value_counts()\n",
    "df = df[df['Product_SubProduct'].isin(combined_counts[combined_counts >= 500].index)]\n",
    "df = df.drop(columns=['Product_SubProduct'])\n",
    "\n",
    "df['Issue_SubIssue'] = df['Issue'] + '_' + df['Sub-issue']\n",
    "combined_counts = df['Issue_SubIssue'].value_counts()\n",
    "df = df[df['Issue_SubIssue'].isin(combined_counts[combined_counts >= 500].index)]\n",
    "df = df.drop(columns=['Issue_SubIssue'])\n",
    "\n",
    "df.shape"
   ]
  },
  {
   "cell_type": "code",
   "execution_count": 28,
   "id": "69d25bf2-738d-457f-a3ca-08474bdae85e",
   "metadata": {},
   "outputs": [
    {
     "data": {
      "text/plain": [
       "(180577, 20)"
      ]
     },
     "execution_count": 28,
     "metadata": {},
     "output_type": "execute_result"
    }
   ],
   "source": [
    "product_counts = df['Product'].value_counts()\n",
    "sub_product_counts = df['Sub-product'].value_counts()\n",
    "issue_counts = df['Issue'].value_counts()\n",
    "sub_issue_counts = df['Sub-issue'].value_counts()\n",
    "\n",
    "df = df[(df['Product'].isin(product_counts[product_counts >= 500].index)) |\n",
    "        (df['Sub-product'].isin(sub_product_counts[sub_product_counts >= 500].index)) |\n",
    "        (df['Issue'].isin(issue_counts[issue_counts >= 500].index)) |\n",
    "        (df['Sub-issue'].isin(sub_issue_counts[sub_issue_counts >= 500].index))]\n",
    "df = df[df['Sub-product'].isin(['I do not know'])==False]\n",
    "df.shape"
   ]
  },
  {
   "cell_type": "code",
   "execution_count": 61,
   "id": "f96fa386-6358-4cba-9247-3efad73a6a63",
   "metadata": {},
   "outputs": [],
   "source": [
    "req_df = df[['Product', 'Sub-product', 'Issue', 'Sub-issue', 'Consumer complaint narrative']]"
   ]
  },
  {
   "cell_type": "code",
   "execution_count": 62,
   "id": "13ae5855-0ab9-480b-9976-25e551565e32",
   "metadata": {},
   "outputs": [],
   "source": [
    "req_df.to_csv(FINAL_DATA_FOLDER / 'filtered_complaints.csv', index = False)"
   ]
  },
  {
   "cell_type": "markdown",
   "id": "176b05ff-e2d1-49ad-b798-b0779def7a80",
   "metadata": {},
   "source": [
    "# Extras"
   ]
  },
  {
   "cell_type": "code",
   "execution_count": 30,
   "id": "50f4d467-c7f6-434b-aabf-b58cbce3a681",
   "metadata": {},
   "outputs": [
    {
     "data": {
      "text/plain": [
       "Product         5\n",
       "Sub-product    15\n",
       "dtype: int64"
      ]
     },
     "execution_count": 30,
     "metadata": {},
     "output_type": "execute_result"
    }
   ],
   "source": [
    "df[['Product', 'Sub-product']].nunique()"
   ]
  },
  {
   "cell_type": "code",
   "execution_count": 31,
   "id": "b2145b91-7078-4dce-9d7f-43b5b64658d3",
   "metadata": {},
   "outputs": [
    {
     "data": {
      "text/plain": [
       "Product                   Sub-product                               \n",
       "Credit Reporting          Credit reporting                              144967\n",
       "Credit card               General-purpose credit card or charge card      9183\n",
       "Checking/savings account  Checking account                                6495\n",
       "Debt collection           Credit card debt                                4150\n",
       "                          Other debt                                      3098\n",
       "                          Telecommunications debt                         2127\n",
       "                          Rental debt                                     1755\n",
       "Credit card               Store credit card                               1682\n",
       "Debt collection           Medical debt                                    1541\n",
       "Loans / Mortgage          Federal student loan servicing                  1410\n",
       "                          Conventional home mortgage                      1073\n",
       "Credit Reporting          Other personal consumer report                   954\n",
       "Debt collection           Auto debt                                        856\n",
       "Checking/savings account  Savings account                                  706\n",
       "                          Other banking product or service                 580\n",
       "Name: count, dtype: int64"
      ]
     },
     "execution_count": 31,
     "metadata": {},
     "output_type": "execute_result"
    }
   ],
   "source": [
    "df[['Product', 'Sub-product']].value_counts()"
   ]
  },
  {
   "cell_type": "code",
   "execution_count": 34,
   "id": "834d1f06-cada-4e3f-96c8-42526009dcc5",
   "metadata": {},
   "outputs": [
    {
     "data": {
      "text/plain": [
       "Issue        16\n",
       "Sub-issue    32\n",
       "dtype: int64"
      ]
     },
     "execution_count": 34,
     "metadata": {},
     "output_type": "execute_result"
    }
   ],
   "source": [
    "df[['Issue', 'Sub-issue']].nunique()"
   ]
  },
  {
   "cell_type": "code",
   "execution_count": 35,
   "id": "f73f2259-db5e-49e8-a944-21561fc3237e",
   "metadata": {},
   "outputs": [
    {
     "data": {
      "text/plain": [
       "Issue\n",
       "Incorrect information on your report                               64785\n",
       "Improper use of your report                                        49636\n",
       "Problem with a company's investigation into an existing problem    33685\n",
       "Attempts to collect debt not owed                                   7305\n",
       "Managing an account                                                 6036\n",
       "Problem with a purchase shown on your statement                     4469\n",
       "Written notification about debt                                     3938\n",
       "Problem with a lender or other company charging your account        1671\n",
       "False statements or representation                                  1436\n",
       "Fees or interest                                                    1336\n",
       "Dealing with your lender or servicer                                1248\n",
       "Other features, terms, or problems                                  1113\n",
       "Problem when making payments                                        1075\n",
       "Getting a credit card                                               1061\n",
       "Trouble during payment process                                       935\n",
       "Took or threatened to take negative or legal action                  848\n",
       "Name: count, dtype: int64"
      ]
     },
     "execution_count": 35,
     "metadata": {},
     "output_type": "execute_result"
    }
   ],
   "source": [
    "df['Issue'].value_counts()"
   ]
  },
  {
   "cell_type": "code",
   "execution_count": 36,
   "id": "ce5858d6-a430-4489-9ad8-72d760760839",
   "metadata": {},
   "outputs": [
    {
     "data": {
      "text/plain": [
       "Sub-issue\n",
       "Reporting company used your report improperly                                            39365\n",
       "Information belongs to someone else                                                      36626\n",
       "Their investigation did not fix an error on your report                                  23357\n",
       "Account information incorrect                                                            11112\n",
       "Account status incorrect                                                                 10724\n",
       "Credit inquiries on your report that you don't recognize                                 10271\n",
       "Was not notified of investigation status or results                                       3714\n",
       "Debt is not yours                                                                         3560\n",
       "Credit card company isn't resolving a dispute about a purchase on your statement          3305\n",
       "Deposits and withdrawals                                                                  3204\n",
       "Personal information incorrect                                                            3134\n",
       "Problem with personal statement of dispute                                                3019\n",
       "Investigation took more than 30 days                                                      2470\n",
       "Didn't receive enough information to verify debt                                          2303\n",
       "Debt was result of identity theft                                                         2234\n",
       "Old information reappears or never goes away                                              1960\n",
       "Problem using a debit or ATM card                                                         1775\n",
       "Transaction was not authorized                                                            1671\n",
       "Didn't receive notice of right to dispute                                                 1635\n",
       "Debt was paid                                                                             1511\n",
       "Attempted to collect wrong amount                                                         1436\n",
       "Problem with fees                                                                         1336\n",
       "Trouble with how payments are being handled                                               1248\n",
       "Public record information inaccurate                                                      1229\n",
       "Card was charged for something you did not purchase with the card                         1164\n",
       "Difficulty submitting a dispute or getting information about a dispute over the phone     1125\n",
       "Other problem                                                                             1113\n",
       "Problem during payment process                                                            1075\n",
       "Card opened without my consent or knowledge                                               1061\n",
       "Funds not handled or disbursed as instructed                                              1057\n",
       "Escrow, taxes, or insurance                                                                935\n",
       "Threatened or suggested your credit would be damaged                                       848\n",
       "Name: count, dtype: int64"
      ]
     },
     "execution_count": 36,
     "metadata": {},
     "output_type": "execute_result"
    }
   ],
   "source": [
    "df['Sub-issue'].value_counts()"
   ]
  },
  {
   "cell_type": "code",
   "execution_count": 55,
   "id": "5449d747-ddd0-46b6-9994-b733e82430f8",
   "metadata": {},
   "outputs": [
    {
     "data": {
      "text/html": [
       "<div>\n",
       "<style scoped>\n",
       "    .dataframe tbody tr th:only-of-type {\n",
       "        vertical-align: middle;\n",
       "    }\n",
       "\n",
       "    .dataframe tbody tr th {\n",
       "        vertical-align: top;\n",
       "    }\n",
       "\n",
       "    .dataframe thead th {\n",
       "        text-align: right;\n",
       "    }\n",
       "</style>\n",
       "<table border=\"1\" class=\"dataframe\">\n",
       "  <thead>\n",
       "    <tr style=\"text-align: right;\">\n",
       "      <th></th>\n",
       "      <th>Issue</th>\n",
       "      <th>Sub-issue</th>\n",
       "      <th>count</th>\n",
       "    </tr>\n",
       "  </thead>\n",
       "  <tbody>\n",
       "    <tr>\n",
       "      <th>7</th>\n",
       "      <td>Attempts to collect debt not owed</td>\n",
       "      <td>Debt is not yours</td>\n",
       "      <td>3560</td>\n",
       "    </tr>\n",
       "    <tr>\n",
       "      <th>19</th>\n",
       "      <td>Attempts to collect debt not owed</td>\n",
       "      <td>Debt was paid</td>\n",
       "      <td>1511</td>\n",
       "    </tr>\n",
       "    <tr>\n",
       "      <th>14</th>\n",
       "      <td>Attempts to collect debt not owed</td>\n",
       "      <td>Debt was result of identity theft</td>\n",
       "      <td>2234</td>\n",
       "    </tr>\n",
       "    <tr>\n",
       "      <th>22</th>\n",
       "      <td>Dealing with your lender or servicer</td>\n",
       "      <td>Trouble with how payments are being handled</td>\n",
       "      <td>1248</td>\n",
       "    </tr>\n",
       "    <tr>\n",
       "      <th>20</th>\n",
       "      <td>False statements or representation</td>\n",
       "      <td>Attempted to collect wrong amount</td>\n",
       "      <td>1436</td>\n",
       "    </tr>\n",
       "    <tr>\n",
       "      <th>21</th>\n",
       "      <td>Fees or interest</td>\n",
       "      <td>Problem with fees</td>\n",
       "      <td>1336</td>\n",
       "    </tr>\n",
       "    <tr>\n",
       "      <th>28</th>\n",
       "      <td>Getting a credit card</td>\n",
       "      <td>Card opened without my consent or knowledge</td>\n",
       "      <td>1061</td>\n",
       "    </tr>\n",
       "    <tr>\n",
       "      <th>0</th>\n",
       "      <td>Improper use of your report</td>\n",
       "      <td>Reporting company used your report improperly</td>\n",
       "      <td>39365</td>\n",
       "    </tr>\n",
       "    <tr>\n",
       "      <th>5</th>\n",
       "      <td>Improper use of your report</td>\n",
       "      <td>Credit inquiries on your report that you don't...</td>\n",
       "      <td>10271</td>\n",
       "    </tr>\n",
       "    <tr>\n",
       "      <th>23</th>\n",
       "      <td>Incorrect information on your report</td>\n",
       "      <td>Public record information inaccurate</td>\n",
       "      <td>1229</td>\n",
       "    </tr>\n",
       "    <tr>\n",
       "      <th>15</th>\n",
       "      <td>Incorrect information on your report</td>\n",
       "      <td>Old information reappears or never goes away</td>\n",
       "      <td>1960</td>\n",
       "    </tr>\n",
       "    <tr>\n",
       "      <th>4</th>\n",
       "      <td>Incorrect information on your report</td>\n",
       "      <td>Account status incorrect</td>\n",
       "      <td>10724</td>\n",
       "    </tr>\n",
       "    <tr>\n",
       "      <th>1</th>\n",
       "      <td>Incorrect information on your report</td>\n",
       "      <td>Information belongs to someone else</td>\n",
       "      <td>36626</td>\n",
       "    </tr>\n",
       "    <tr>\n",
       "      <th>3</th>\n",
       "      <td>Incorrect information on your report</td>\n",
       "      <td>Account information incorrect</td>\n",
       "      <td>11112</td>\n",
       "    </tr>\n",
       "    <tr>\n",
       "      <th>10</th>\n",
       "      <td>Incorrect information on your report</td>\n",
       "      <td>Personal information incorrect</td>\n",
       "      <td>3134</td>\n",
       "    </tr>\n",
       "    <tr>\n",
       "      <th>29</th>\n",
       "      <td>Managing an account</td>\n",
       "      <td>Funds not handled or disbursed as instructed</td>\n",
       "      <td>1057</td>\n",
       "    </tr>\n",
       "    <tr>\n",
       "      <th>9</th>\n",
       "      <td>Managing an account</td>\n",
       "      <td>Deposits and withdrawals</td>\n",
       "      <td>3204</td>\n",
       "    </tr>\n",
       "    <tr>\n",
       "      <th>16</th>\n",
       "      <td>Managing an account</td>\n",
       "      <td>Problem using a debit or ATM card</td>\n",
       "      <td>1775</td>\n",
       "    </tr>\n",
       "    <tr>\n",
       "      <th>26</th>\n",
       "      <td>Other features, terms, or problems</td>\n",
       "      <td>Other problem</td>\n",
       "      <td>1113</td>\n",
       "    </tr>\n",
       "    <tr>\n",
       "      <th>27</th>\n",
       "      <td>Problem when making payments</td>\n",
       "      <td>Problem during payment process</td>\n",
       "      <td>1075</td>\n",
       "    </tr>\n",
       "    <tr>\n",
       "      <th>25</th>\n",
       "      <td>Problem with a company's investigation into an...</td>\n",
       "      <td>Difficulty submitting a dispute or getting inf...</td>\n",
       "      <td>1125</td>\n",
       "    </tr>\n",
       "    <tr>\n",
       "      <th>2</th>\n",
       "      <td>Problem with a company's investigation into an...</td>\n",
       "      <td>Their investigation did not fix an error on yo...</td>\n",
       "      <td>23357</td>\n",
       "    </tr>\n",
       "    <tr>\n",
       "      <th>11</th>\n",
       "      <td>Problem with a company's investigation into an...</td>\n",
       "      <td>Problem with personal statement of dispute</td>\n",
       "      <td>3019</td>\n",
       "    </tr>\n",
       "    <tr>\n",
       "      <th>12</th>\n",
       "      <td>Problem with a company's investigation into an...</td>\n",
       "      <td>Investigation took more than 30 days</td>\n",
       "      <td>2470</td>\n",
       "    </tr>\n",
       "    <tr>\n",
       "      <th>6</th>\n",
       "      <td>Problem with a company's investigation into an...</td>\n",
       "      <td>Was not notified of investigation status or re...</td>\n",
       "      <td>3714</td>\n",
       "    </tr>\n",
       "    <tr>\n",
       "      <th>17</th>\n",
       "      <td>Problem with a lender or other company chargin...</td>\n",
       "      <td>Transaction was not authorized</td>\n",
       "      <td>1671</td>\n",
       "    </tr>\n",
       "    <tr>\n",
       "      <th>8</th>\n",
       "      <td>Problem with a purchase shown on your statement</td>\n",
       "      <td>Credit card company isn't resolving a dispute ...</td>\n",
       "      <td>3305</td>\n",
       "    </tr>\n",
       "    <tr>\n",
       "      <th>24</th>\n",
       "      <td>Problem with a purchase shown on your statement</td>\n",
       "      <td>Card was charged for something you did not pur...</td>\n",
       "      <td>1164</td>\n",
       "    </tr>\n",
       "    <tr>\n",
       "      <th>31</th>\n",
       "      <td>Took or threatened to take negative or legal a...</td>\n",
       "      <td>Threatened or suggested your credit would be d...</td>\n",
       "      <td>848</td>\n",
       "    </tr>\n",
       "    <tr>\n",
       "      <th>30</th>\n",
       "      <td>Trouble during payment process</td>\n",
       "      <td>Escrow, taxes, or insurance</td>\n",
       "      <td>935</td>\n",
       "    </tr>\n",
       "    <tr>\n",
       "      <th>18</th>\n",
       "      <td>Written notification about debt</td>\n",
       "      <td>Didn't receive notice of right to dispute</td>\n",
       "      <td>1635</td>\n",
       "    </tr>\n",
       "    <tr>\n",
       "      <th>13</th>\n",
       "      <td>Written notification about debt</td>\n",
       "      <td>Didn't receive enough information to verify debt</td>\n",
       "      <td>2303</td>\n",
       "    </tr>\n",
       "  </tbody>\n",
       "</table>\n",
       "</div>"
      ],
      "text/plain": [
       "                                                Issue  \\\n",
       "7                   Attempts to collect debt not owed   \n",
       "19                  Attempts to collect debt not owed   \n",
       "14                  Attempts to collect debt not owed   \n",
       "22               Dealing with your lender or servicer   \n",
       "20                 False statements or representation   \n",
       "21                                   Fees or interest   \n",
       "28                              Getting a credit card   \n",
       "0                         Improper use of your report   \n",
       "5                         Improper use of your report   \n",
       "23               Incorrect information on your report   \n",
       "15               Incorrect information on your report   \n",
       "4                Incorrect information on your report   \n",
       "1                Incorrect information on your report   \n",
       "3                Incorrect information on your report   \n",
       "10               Incorrect information on your report   \n",
       "29                                Managing an account   \n",
       "9                                 Managing an account   \n",
       "16                                Managing an account   \n",
       "26                 Other features, terms, or problems   \n",
       "27                       Problem when making payments   \n",
       "25  Problem with a company's investigation into an...   \n",
       "2   Problem with a company's investigation into an...   \n",
       "11  Problem with a company's investigation into an...   \n",
       "12  Problem with a company's investigation into an...   \n",
       "6   Problem with a company's investigation into an...   \n",
       "17  Problem with a lender or other company chargin...   \n",
       "8     Problem with a purchase shown on your statement   \n",
       "24    Problem with a purchase shown on your statement   \n",
       "31  Took or threatened to take negative or legal a...   \n",
       "30                     Trouble during payment process   \n",
       "18                    Written notification about debt   \n",
       "13                    Written notification about debt   \n",
       "\n",
       "                                            Sub-issue  count  \n",
       "7                                   Debt is not yours   3560  \n",
       "19                                      Debt was paid   1511  \n",
       "14                  Debt was result of identity theft   2234  \n",
       "22        Trouble with how payments are being handled   1248  \n",
       "20                  Attempted to collect wrong amount   1436  \n",
       "21                                  Problem with fees   1336  \n",
       "28        Card opened without my consent or knowledge   1061  \n",
       "0       Reporting company used your report improperly  39365  \n",
       "5   Credit inquiries on your report that you don't...  10271  \n",
       "23               Public record information inaccurate   1229  \n",
       "15       Old information reappears or never goes away   1960  \n",
       "4                            Account status incorrect  10724  \n",
       "1                 Information belongs to someone else  36626  \n",
       "3                       Account information incorrect  11112  \n",
       "10                     Personal information incorrect   3134  \n",
       "29       Funds not handled or disbursed as instructed   1057  \n",
       "9                            Deposits and withdrawals   3204  \n",
       "16                  Problem using a debit or ATM card   1775  \n",
       "26                                      Other problem   1113  \n",
       "27                     Problem during payment process   1075  \n",
       "25  Difficulty submitting a dispute or getting inf...   1125  \n",
       "2   Their investigation did not fix an error on yo...  23357  \n",
       "11         Problem with personal statement of dispute   3019  \n",
       "12               Investigation took more than 30 days   2470  \n",
       "6   Was not notified of investigation status or re...   3714  \n",
       "17                     Transaction was not authorized   1671  \n",
       "8   Credit card company isn't resolving a dispute ...   3305  \n",
       "24  Card was charged for something you did not pur...   1164  \n",
       "31  Threatened or suggested your credit would be d...    848  \n",
       "30                        Escrow, taxes, or insurance    935  \n",
       "18          Didn't receive notice of right to dispute   1635  \n",
       "13   Didn't receive enough information to verify debt   2303  "
      ]
     },
     "execution_count": 55,
     "metadata": {},
     "output_type": "execute_result"
    }
   ],
   "source": [
    "pd.DataFrame(df[['Issue', 'Sub-issue']].value_counts()).reset_index().sort_values('Issue')"
   ]
  },
  {
   "cell_type": "code",
   "execution_count": 43,
   "id": "d0920de5-63e9-4bca-8318-aa02d281fa37",
   "metadata": {},
   "outputs": [
    {
     "data": {
      "text/plain": [
       "{'Credit Reporting': 0,\n",
       " 'Credit card': 1,\n",
       " 'Debt collection': 2,\n",
       " 'Checking/savings account': 3,\n",
       " 'Loans / Mortgage': 4}"
      ]
     },
     "execution_count": 43,
     "metadata": {},
     "output_type": "execute_result"
    }
   ],
   "source": [
    "product_labels = df['Product'].unique().tolist()\n",
    "product_label_mapping = {label: i for i, label in enumerate(product_labels)}\n",
    "product_label_mapping"
   ]
  },
  {
   "cell_type": "code",
   "execution_count": 48,
   "id": "61ef86f0-8e5f-42be-902b-ef7079bf7e58",
   "metadata": {},
   "outputs": [
    {
     "data": {
      "text/plain": [
       "{0: 'Credit Reporting',\n",
       " 1: 'Credit card',\n",
       " 2: 'Debt collection',\n",
       " 3: 'Checking/savings account',\n",
       " 4: 'Loans / Mortgage'}"
      ]
     },
     "execution_count": 48,
     "metadata": {},
     "output_type": "execute_result"
    }
   ],
   "source": [
    "product_label2id = product_label_mapping\n",
    "product_id2label = {j : i for i, j in product_label_mapping.items()}\n",
    "product_id2label"
   ]
  },
  {
   "cell_type": "code",
   "execution_count": 49,
   "id": "d21bdf49-4949-4974-8696-bedb4638175f",
   "metadata": {},
   "outputs": [
    {
     "data": {
      "text/plain": [
       "{'Credit reporting': 0,\n",
       " 'Store credit card': 1,\n",
       " 'General-purpose credit card or charge card': 2,\n",
       " 'Credit card debt': 3,\n",
       " 'Checking account': 4,\n",
       " 'Other personal consumer report': 5,\n",
       " 'Auto debt': 6,\n",
       " 'Federal student loan servicing': 7,\n",
       " 'Other debt': 8,\n",
       " 'Telecommunications debt': 9,\n",
       " 'Medical debt': 10,\n",
       " 'Conventional home mortgage': 11,\n",
       " 'Other banking product or service': 12,\n",
       " 'Rental debt': 13,\n",
       " 'Savings account': 14}"
      ]
     },
     "execution_count": 49,
     "metadata": {},
     "output_type": "execute_result"
    }
   ],
   "source": [
    "sub_product_mapping = df['Sub-product'].unique().tolist()\n",
    "sub_product_label_mapping = {label: i for i, label in enumerate(sub_product_mapping)}\n",
    "sub_product_label_mapping"
   ]
  },
  {
   "cell_type": "code",
   "execution_count": 50,
   "id": "e8348169-7b6d-46b2-99fd-766fb325e8d0",
   "metadata": {},
   "outputs": [
    {
     "data": {
      "text/plain": [
       "{0: 'Credit reporting',\n",
       " 1: 'Store credit card',\n",
       " 2: 'General-purpose credit card or charge card',\n",
       " 3: 'Credit card debt',\n",
       " 4: 'Checking account',\n",
       " 5: 'Other personal consumer report',\n",
       " 6: 'Auto debt',\n",
       " 7: 'Federal student loan servicing',\n",
       " 8: 'Other debt',\n",
       " 9: 'Telecommunications debt',\n",
       " 10: 'Medical debt',\n",
       " 11: 'Conventional home mortgage',\n",
       " 12: 'Other banking product or service',\n",
       " 13: 'Rental debt',\n",
       " 14: 'Savings account'}"
      ]
     },
     "execution_count": 50,
     "metadata": {},
     "output_type": "execute_result"
    }
   ],
   "source": [
    "sub_product_label2id = sub_product_label_mapping\n",
    "sub_product_id2label = {j : i for i, j in sub_product_label_mapping.items()}\n",
    "sub_product_id2label"
   ]
  },
  {
   "cell_type": "code",
   "execution_count": 51,
   "id": "e52375bb-df06-414c-9343-4c14aedb3cc9",
   "metadata": {},
   "outputs": [
    {
     "data": {
      "text/plain": [
       "{'Incorrect information on your report': 0,\n",
       " 'Problem when making payments': 1,\n",
       " 'Getting a credit card': 2,\n",
       " \"Problem with a company's investigation into an existing problem\": 3,\n",
       " 'Attempts to collect debt not owed': 4,\n",
       " 'Managing an account': 5,\n",
       " 'Improper use of your report': 6,\n",
       " 'Problem with a purchase shown on your statement': 7,\n",
       " 'False statements or representation': 8,\n",
       " 'Dealing with your lender or servicer': 9,\n",
       " 'Written notification about debt': 10,\n",
       " 'Trouble during payment process': 11,\n",
       " 'Fees or interest': 12,\n",
       " 'Problem with a lender or other company charging your account': 13,\n",
       " 'Took or threatened to take negative or legal action': 14,\n",
       " 'Other features, terms, or problems': 15}"
      ]
     },
     "execution_count": 51,
     "metadata": {},
     "output_type": "execute_result"
    }
   ],
   "source": [
    "issue_labels = df['Issue'].unique().tolist()\n",
    "issue_label_mapping = {label: i for i, label in enumerate(issue_labels)}\n",
    "issue_label_mapping"
   ]
  },
  {
   "cell_type": "code",
   "execution_count": 52,
   "id": "8a4563f4-e617-4f45-9d87-9fd6750c66c6",
   "metadata": {},
   "outputs": [
    {
     "data": {
      "text/plain": [
       "{0: 'Incorrect information on your report',\n",
       " 1: 'Problem when making payments',\n",
       " 2: 'Getting a credit card',\n",
       " 3: \"Problem with a company's investigation into an existing problem\",\n",
       " 4: 'Attempts to collect debt not owed',\n",
       " 5: 'Managing an account',\n",
       " 6: 'Improper use of your report',\n",
       " 7: 'Problem with a purchase shown on your statement',\n",
       " 8: 'False statements or representation',\n",
       " 9: 'Dealing with your lender or servicer',\n",
       " 10: 'Written notification about debt',\n",
       " 11: 'Trouble during payment process',\n",
       " 12: 'Fees or interest',\n",
       " 13: 'Problem with a lender or other company charging your account',\n",
       " 14: 'Took or threatened to take negative or legal action',\n",
       " 15: 'Other features, terms, or problems'}"
      ]
     },
     "execution_count": 52,
     "metadata": {},
     "output_type": "execute_result"
    }
   ],
   "source": [
    "issue_label2id = issue_label_mapping\n",
    "issue_id2label = {j : i for i, j in issue_label_mapping.items()}\n",
    "issue_id2label"
   ]
  },
  {
   "cell_type": "code",
   "execution_count": 53,
   "id": "2967648d-d788-4d30-801e-4340b57a81bd",
   "metadata": {},
   "outputs": [
    {
     "data": {
      "text/plain": [
       "{'Information belongs to someone else': 0,\n",
       " 'Problem during payment process': 1,\n",
       " 'Card opened without my consent or knowledge': 2,\n",
       " 'Their investigation did not fix an error on your report': 3,\n",
       " 'Debt is not yours': 4,\n",
       " 'Deposits and withdrawals': 5,\n",
       " 'Reporting company used your report improperly': 6,\n",
       " 'Account status incorrect': 7,\n",
       " 'Account information incorrect': 8,\n",
       " 'Was not notified of investigation status or results': 9,\n",
       " \"Credit inquiries on your report that you don't recognize\": 10,\n",
       " 'Personal information incorrect': 11,\n",
       " 'Card was charged for something you did not purchase with the card': 12,\n",
       " 'Investigation took more than 30 days': 13,\n",
       " 'Problem with personal statement of dispute': 14,\n",
       " 'Old information reappears or never goes away': 15,\n",
       " 'Attempted to collect wrong amount': 16,\n",
       " 'Trouble with how payments are being handled': 17,\n",
       " 'Public record information inaccurate': 18,\n",
       " 'Debt was result of identity theft': 19,\n",
       " 'Difficulty submitting a dispute or getting information about a dispute over the phone': 20,\n",
       " \"Didn't receive notice of right to dispute\": 21,\n",
       " 'Problem using a debit or ATM card': 22,\n",
       " 'Escrow, taxes, or insurance': 23,\n",
       " 'Problem with fees': 24,\n",
       " \"Credit card company isn't resolving a dispute about a purchase on your statement\": 25,\n",
       " 'Transaction was not authorized': 26,\n",
       " 'Debt was paid': 27,\n",
       " 'Threatened or suggested your credit would be damaged': 28,\n",
       " 'Other problem': 29,\n",
       " \"Didn't receive enough information to verify debt\": 30,\n",
       " 'Funds not handled or disbursed as instructed': 31}"
      ]
     },
     "execution_count": 53,
     "metadata": {},
     "output_type": "execute_result"
    }
   ],
   "source": [
    "sub_issue_mapping = df['Sub-issue'].unique().tolist()\n",
    "sub_issue_label_mapping = {label: i for i, label in enumerate(sub_issue_mapping)}\n",
    "sub_issue_label_mapping"
   ]
  },
  {
   "cell_type": "code",
   "execution_count": 54,
   "id": "a990fa1f-bb05-45ce-b803-fce3b1725276",
   "metadata": {},
   "outputs": [
    {
     "data": {
      "text/plain": [
       "{0: 'Information belongs to someone else',\n",
       " 1: 'Problem during payment process',\n",
       " 2: 'Card opened without my consent or knowledge',\n",
       " 3: 'Their investigation did not fix an error on your report',\n",
       " 4: 'Debt is not yours',\n",
       " 5: 'Deposits and withdrawals',\n",
       " 6: 'Reporting company used your report improperly',\n",
       " 7: 'Account status incorrect',\n",
       " 8: 'Account information incorrect',\n",
       " 9: 'Was not notified of investigation status or results',\n",
       " 10: \"Credit inquiries on your report that you don't recognize\",\n",
       " 11: 'Personal information incorrect',\n",
       " 12: 'Card was charged for something you did not purchase with the card',\n",
       " 13: 'Investigation took more than 30 days',\n",
       " 14: 'Problem with personal statement of dispute',\n",
       " 15: 'Old information reappears or never goes away',\n",
       " 16: 'Attempted to collect wrong amount',\n",
       " 17: 'Trouble with how payments are being handled',\n",
       " 18: 'Public record information inaccurate',\n",
       " 19: 'Debt was result of identity theft',\n",
       " 20: 'Difficulty submitting a dispute or getting information about a dispute over the phone',\n",
       " 21: \"Didn't receive notice of right to dispute\",\n",
       " 22: 'Problem using a debit or ATM card',\n",
       " 23: 'Escrow, taxes, or insurance',\n",
       " 24: 'Problem with fees',\n",
       " 25: \"Credit card company isn't resolving a dispute about a purchase on your statement\",\n",
       " 26: 'Transaction was not authorized',\n",
       " 27: 'Debt was paid',\n",
       " 28: 'Threatened or suggested your credit would be damaged',\n",
       " 29: 'Other problem',\n",
       " 30: \"Didn't receive enough information to verify debt\",\n",
       " 31: 'Funds not handled or disbursed as instructed'}"
      ]
     },
     "execution_count": 54,
     "metadata": {},
     "output_type": "execute_result"
    }
   ],
   "source": [
    "sub_issue_label2id = sub_issue_label_mapping\n",
    "sub_issue_id2label = {j : i for i, j in sub_issue_label_mapping.items()}\n",
    "sub_issue_id2label"
   ]
  },
  {
   "cell_type": "code",
   "execution_count": 57,
   "id": "224d7e7e-c9a7-4d79-a5fa-47ee5ebc8edc",
   "metadata": {},
   "outputs": [
    {
     "name": "stdout",
     "output_type": "stream",
     "text": [
      "All JSON files have been saved successfully in the '../artifacts' folder!\n"
     ]
    }
   ],
   "source": [
    "import os\n",
    "import json\n",
    "\n",
    "# Define the folder path\n",
    "output_folder = ARTIFACTS_STORE\n",
    "\n",
    "# Create the folder if it doesn't exist\n",
    "os.makedirs(output_folder, exist_ok=True)\n",
    "\n",
    "# Save each dictionary to its corresponding JSON file\n",
    "with open(os.path.join(output_folder, 'product_label2id.json'), 'w') as f:\n",
    "    json.dump(product_label2id, f, indent=4)\n",
    "\n",
    "with open(os.path.join(output_folder, 'product_id2label.json'), 'w') as f:\n",
    "    json.dump(product_id2label, f, indent=4)\n",
    "\n",
    "with open(os.path.join(output_folder, 'sub_product_label2id.json'), 'w') as f:\n",
    "    json.dump(sub_product_label2id, f, indent=4)\n",
    "\n",
    "with open(os.path.join(output_folder, 'sub_product_id2label.json'), 'w') as f:\n",
    "    json.dump(sub_product_id2label, f, indent=4)\n",
    "\n",
    "with open(os.path.join(output_folder, 'issue_label2id.json'), 'w') as f:\n",
    "    json.dump(issue_label2id, f, indent=4)\n",
    "\n",
    "with open(os.path.join(output_folder, 'issue_id2label.json'), 'w') as f:\n",
    "    json.dump(issue_id2label, f, indent=4)\n",
    "\n",
    "with open(os.path.join(output_folder, 'sub_issue_label2id.json'), 'w') as f:\n",
    "    json.dump(sub_issue_label2id, f, indent=4)\n",
    "\n",
    "with open(os.path.join(output_folder, 'sub_issue_id2label.json'), 'w') as f:\n",
    "    json.dump(sub_issue_id2label, f, indent=4)\n",
    "\n",
    "print(f\"All JSON files have been saved successfully in the '{output_folder}' folder!\")\n"
   ]
  },
  {
   "cell_type": "code",
   "execution_count": null,
   "id": "1ed4ef7c-ae7b-4976-972f-50e2c17bc060",
   "metadata": {},
   "outputs": [],
   "source": []
  },
  {
   "cell_type": "code",
   "execution_count": null,
   "id": "bbd9a3e3-9039-4a40-8267-f3d99a6d9879",
   "metadata": {},
   "outputs": [],
   "source": []
  },
  {
   "cell_type": "code",
   "execution_count": 75,
   "id": "5dc45c4c-bb0d-4605-a6df-2e8dbbfbabba",
   "metadata": {},
   "outputs": [
    {
     "data": {
      "text/plain": [
       "{0: 'Credit Reporting',\n",
       " 1: 'Credit card',\n",
       " 2: 'Debt collection',\n",
       " 3: 'Checking/savings account',\n",
       " 4: 'Loans / Mortgage'}"
      ]
     },
     "execution_count": 75,
     "metadata": {},
     "output_type": "execute_result"
    }
   ],
   "source": [
    "product_label2id\n",
    "product_id2label"
   ]
  },
  {
   "cell_type": "code",
   "execution_count": 76,
   "id": "1b663df7-70f6-4241-934a-b2403b8de78f",
   "metadata": {},
   "outputs": [
    {
     "data": {
      "text/plain": [
       "{0: 'Credit reporting',\n",
       " 1: 'Store credit card',\n",
       " 2: 'General-purpose credit card or charge card',\n",
       " 3: 'Credit card debt',\n",
       " 4: 'Checking account',\n",
       " 5: 'Other personal consumer report',\n",
       " 6: 'Auto debt',\n",
       " 7: 'Federal student loan servicing',\n",
       " 8: 'Other debt',\n",
       " 9: 'Telecommunications debt',\n",
       " 10: 'Medical debt',\n",
       " 11: 'Conventional home mortgage',\n",
       " 12: 'Other banking product or service',\n",
       " 13: 'Rental debt',\n",
       " 14: 'Savings account'}"
      ]
     },
     "execution_count": 76,
     "metadata": {},
     "output_type": "execute_result"
    }
   ],
   "source": [
    "sub_product_label2id\n",
    "sub_product_id2label"
   ]
  },
  {
   "cell_type": "code",
   "execution_count": 77,
   "id": "23f07e84-464a-4201-aa34-f28425f232ee",
   "metadata": {},
   "outputs": [
    {
     "data": {
      "text/plain": [
       "{0: 'Incorrect information on your report',\n",
       " 1: 'Problem when making payments',\n",
       " 2: 'Getting a credit card',\n",
       " 3: \"Problem with a company's investigation into an existing problem\",\n",
       " 4: 'Attempts to collect debt not owed',\n",
       " 5: 'Managing an account',\n",
       " 6: 'Improper use of your report',\n",
       " 7: 'Problem with a purchase shown on your statement',\n",
       " 8: 'False statements or representation',\n",
       " 9: 'Dealing with your lender or servicer',\n",
       " 10: 'Written notification about debt',\n",
       " 11: 'Trouble during payment process',\n",
       " 12: 'Fees or interest',\n",
       " 13: 'Problem with a lender or other company charging your account',\n",
       " 14: 'Took or threatened to take negative or legal action',\n",
       " 15: 'Other features, terms, or problems'}"
      ]
     },
     "execution_count": 77,
     "metadata": {},
     "output_type": "execute_result"
    }
   ],
   "source": [
    "issue_label2id\n",
    "issue_id2label"
   ]
  },
  {
   "cell_type": "code",
   "execution_count": 78,
   "id": "55affded-967c-49bc-b9b9-e35399b8b6df",
   "metadata": {},
   "outputs": [
    {
     "data": {
      "text/plain": [
       "{0: 'Information belongs to someone else',\n",
       " 1: 'Problem during payment process',\n",
       " 2: 'Card opened without my consent or knowledge',\n",
       " 3: 'Their investigation did not fix an error on your report',\n",
       " 4: 'Debt is not yours',\n",
       " 5: 'Deposits and withdrawals',\n",
       " 6: 'Reporting company used your report improperly',\n",
       " 7: 'Account status incorrect',\n",
       " 8: 'Account information incorrect',\n",
       " 9: 'Was not notified of investigation status or results',\n",
       " 10: \"Credit inquiries on your report that you don't recognize\",\n",
       " 11: 'Personal information incorrect',\n",
       " 12: 'Card was charged for something you did not purchase with the card',\n",
       " 13: 'Investigation took more than 30 days',\n",
       " 14: 'Problem with personal statement of dispute',\n",
       " 15: 'Old information reappears or never goes away',\n",
       " 16: 'Attempted to collect wrong amount',\n",
       " 17: 'Trouble with how payments are being handled',\n",
       " 18: 'Public record information inaccurate',\n",
       " 19: 'Debt was result of identity theft',\n",
       " 20: 'Difficulty submitting a dispute or getting information about a dispute over the phone',\n",
       " 21: \"Didn't receive notice of right to dispute\",\n",
       " 22: 'Problem using a debit or ATM card',\n",
       " 23: 'Escrow, taxes, or insurance',\n",
       " 24: 'Problem with fees',\n",
       " 25: \"Credit card company isn't resolving a dispute about a purchase on your statement\",\n",
       " 26: 'Transaction was not authorized',\n",
       " 27: 'Debt was paid',\n",
       " 28: 'Threatened or suggested your credit would be damaged',\n",
       " 29: 'Other problem',\n",
       " 30: \"Didn't receive enough information to verify debt\",\n",
       " 31: 'Funds not handled or disbursed as instructed'}"
      ]
     },
     "execution_count": 78,
     "metadata": {},
     "output_type": "execute_result"
    }
   ],
   "source": [
    "sub_issue_label2id\n",
    "sub_issue_id2label"
   ]
  },
  {
   "cell_type": "code",
   "execution_count": null,
   "id": "4f08b632-af7d-45c4-9853-ef58e3d62927",
   "metadata": {},
   "outputs": [],
   "source": []
  },
  {
   "cell_type": "code",
   "execution_count": null,
   "id": "810624ca-83f7-403f-8e3d-df6c5ee17d01",
   "metadata": {},
   "outputs": [],
   "source": []
  },
  {
   "cell_type": "code",
   "execution_count": null,
   "id": "46e51613-5bbb-4e19-b091-ec9939658a84",
   "metadata": {},
   "outputs": [],
   "source": []
  },
  {
   "cell_type": "code",
   "execution_count": null,
   "id": "c9f9884d-bc5c-4504-a904-497052f542cb",
   "metadata": {},
   "outputs": [],
   "source": []
  },
  {
   "cell_type": "code",
   "execution_count": null,
   "id": "2848625f-dedf-4784-8610-3581999d789c",
   "metadata": {},
   "outputs": [],
   "source": []
  },
  {
   "cell_type": "code",
   "execution_count": null,
   "id": "788d1cc6-0f68-423e-80a5-78d7a336d5a3",
   "metadata": {},
   "outputs": [],
   "source": []
  },
  {
   "cell_type": "code",
   "execution_count": null,
   "id": "d12b4a94-81d9-493d-9ed6-1edf74c4257f",
   "metadata": {},
   "outputs": [],
   "source": []
  },
  {
   "cell_type": "code",
   "execution_count": null,
   "id": "8cf888d7-13c8-4e96-887f-8a86200f0ee1",
   "metadata": {},
   "outputs": [],
   "source": []
  },
  {
   "cell_type": "code",
   "execution_count": null,
   "id": "6acd19b8-b3bf-4985-b308-b398ec62665c",
   "metadata": {},
   "outputs": [],
   "source": []
  }
 ],
 "metadata": {
  "kernelspec": {
   "display_name": ".complain_tag_venv",
   "language": "python",
   "name": "complaint_tag"
  },
  "language_info": {
   "codemirror_mode": {
    "name": "ipython",
    "version": 3
   },
   "file_extension": ".py",
   "mimetype": "text/x-python",
   "name": "python",
   "nbconvert_exporter": "python",
   "pygments_lexer": "ipython3",
   "version": "3.11.6"
  }
 },
 "nbformat": 4,
 "nbformat_minor": 5
}
